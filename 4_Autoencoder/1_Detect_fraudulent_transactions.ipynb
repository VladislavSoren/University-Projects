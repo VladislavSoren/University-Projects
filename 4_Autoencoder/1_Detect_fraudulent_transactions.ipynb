{
  "nbformat": 4,
  "nbformat_minor": 0,
  "metadata": {
    "colab": {
      "name": "Копия блокнота \"15_Pro\"",
      "provenance": [],
      "collapsed_sections": [],
      "toc_visible": true
    },
    "kernelspec": {
      "name": "python3",
      "display_name": "Python 3"
    },
    "accelerator": "GPU"
  },
  "cells": [
    {
      "cell_type": "markdown",
      "metadata": {
        "id": "qc7BJnQF8zam"
      },
      "source": [
        "# Task\n",
        "\n",
        "С помощью модели типа \"Автокадировщик\" детектировать мошеннические транзакции кредитных кард.\n",
        "\n"
      ]
    },
    {
      "cell_type": "code",
      "metadata": {
        "id": "0hyWYiPqLdez"
      },
      "source": [
        "from tensorflow.keras.models import Model\n",
        "from tensorflow.keras.layers import Dense, Flatten, Reshape, Input, Conv2DTranspose, concatenate, Activation, MaxPooling2D, Conv2D, BatchNormalization, Dropout\n",
        "from tensorflow.keras import backend as K       # подтягиваем базовые керасовские функции\n",
        "from tensorflow.keras.optimizers import Adam    # загружаем выбранный оптимизатор\n",
        "from tensorflow.keras import utils \n",
        "\n",
        "import matplotlib.pyplot as plt \n",
        "\n",
        "import numpy as np \n",
        "import pandas as pd \n",
        "\n",
        "from sklearn.model_selection import train_test_split \n",
        "from sklearn.preprocessing import StandardScaler \n",
        "\n",
        "import os \n",
        "from google.colab import drive \n",
        "import time, random\n",
        "import seaborn as sns\n",
        "\n",
        "sns.set_style('darkgrid')"
      ],
      "execution_count": 1,
      "outputs": []
    },
    {
      "cell_type": "code",
      "source": [
        "!pip install patool\n",
        "import patoolib   "
      ],
      "metadata": {
        "colab": {
          "base_uri": "https://localhost:8080/"
        },
        "id": "uqG7wkwl-tcd",
        "outputId": "9cf4ac09-a28a-4e4e-9eaf-644e55e30809"
      },
      "execution_count": 2,
      "outputs": [
        {
          "output_type": "stream",
          "name": "stdout",
          "text": [
            "Collecting patool\n",
            "  Downloading patool-1.12-py2.py3-none-any.whl (77 kB)\n",
            "\u001b[?25l\r\u001b[K     |████▎                           | 10 kB 26.2 MB/s eta 0:00:01\r\u001b[K     |████████▌                       | 20 kB 30.8 MB/s eta 0:00:01\r\u001b[K     |████████████▊                   | 30 kB 24.2 MB/s eta 0:00:01\r\u001b[K     |█████████████████               | 40 kB 19.8 MB/s eta 0:00:01\r\u001b[K     |█████████████████████▏          | 51 kB 13.4 MB/s eta 0:00:01\r\u001b[K     |█████████████████████████▍      | 61 kB 15.1 MB/s eta 0:00:01\r\u001b[K     |█████████████████████████████▋  | 71 kB 12.6 MB/s eta 0:00:01\r\u001b[K     |████████████████████████████████| 77 kB 852 kB/s \n",
            "\u001b[?25hInstalling collected packages: patool\n",
            "Successfully installed patool-1.12\n"
          ]
        }
      ]
    },
    {
      "cell_type": "code",
      "metadata": {
        "id": "A0z0yyCJEs0v",
        "colab": {
          "base_uri": "https://localhost:8080/"
        },
        "outputId": "814a119c-703d-453f-ffef-c48f54a7a35c"
      },
      "source": [
        "drive.mount('/content/drive/') # монтируем google диск"
      ],
      "execution_count": 3,
      "outputs": [
        {
          "output_type": "stream",
          "name": "stdout",
          "text": [
            "Mounted at /content/drive/\n"
          ]
        }
      ]
    },
    {
      "cell_type": "code",
      "source": [
        "# Разархивируем архив\n",
        "patoolib.extract_archive('/content/drive/MyDrive/DataSets/creditcard.rar', outdir='/content' )"
      ],
      "metadata": {
        "colab": {
          "base_uri": "https://localhost:8080/",
          "height": 105
        },
        "id": "DpSriM2Y_wR9",
        "outputId": "792bca79-0917-4ee0-ff69-06c54f6018f0"
      },
      "execution_count": 4,
      "outputs": [
        {
          "output_type": "stream",
          "name": "stdout",
          "text": [
            "patool: Extracting /content/drive/MyDrive/DataSets/creditcard.rar ...\n",
            "patool: running /usr/bin/unrar x -- /content/drive/MyDrive/DataSets/creditcard.rar\n",
            "patool:     with cwd='/content'\n",
            "patool: ... /content/drive/MyDrive/DataSets/creditcard.rar extracted to `/content'.\n"
          ]
        },
        {
          "output_type": "execute_result",
          "data": {
            "application/vnd.google.colaboratory.intrinsic+json": {
              "type": "string"
            },
            "text/plain": [
              "'/content'"
            ]
          },
          "metadata": {},
          "execution_count": 4
        }
      ]
    },
    {
      "cell_type": "code",
      "metadata": {
        "id": "89p7GynPQM4F"
      },
      "source": [
        "df = pd.read_csv(\"/content/creditcard.csv\") # читаем базу"
      ],
      "execution_count": 5,
      "outputs": []
    },
    {
      "cell_type": "code",
      "metadata": {
        "id": "wZ6_P099QNn9",
        "colab": {
          "base_uri": "https://localhost:8080/",
          "height": 488
        },
        "outputId": "ac49ee9c-35d6-43e0-dc3b-3836c251d63b"
      },
      "source": [
        "df"
      ],
      "execution_count": 6,
      "outputs": [
        {
          "output_type": "execute_result",
          "data": {
            "text/html": [
              "\n",
              "  <div id=\"df-0e44d3a4-d80e-4ec2-bdb3-6cc16e1d10cb\">\n",
              "    <div class=\"colab-df-container\">\n",
              "      <div>\n",
              "<style scoped>\n",
              "    .dataframe tbody tr th:only-of-type {\n",
              "        vertical-align: middle;\n",
              "    }\n",
              "\n",
              "    .dataframe tbody tr th {\n",
              "        vertical-align: top;\n",
              "    }\n",
              "\n",
              "    .dataframe thead th {\n",
              "        text-align: right;\n",
              "    }\n",
              "</style>\n",
              "<table border=\"1\" class=\"dataframe\">\n",
              "  <thead>\n",
              "    <tr style=\"text-align: right;\">\n",
              "      <th></th>\n",
              "      <th>Time</th>\n",
              "      <th>V1</th>\n",
              "      <th>V2</th>\n",
              "      <th>V3</th>\n",
              "      <th>V4</th>\n",
              "      <th>V5</th>\n",
              "      <th>V6</th>\n",
              "      <th>V7</th>\n",
              "      <th>V8</th>\n",
              "      <th>V9</th>\n",
              "      <th>V10</th>\n",
              "      <th>V11</th>\n",
              "      <th>V12</th>\n",
              "      <th>V13</th>\n",
              "      <th>V14</th>\n",
              "      <th>V15</th>\n",
              "      <th>V16</th>\n",
              "      <th>V17</th>\n",
              "      <th>V18</th>\n",
              "      <th>V19</th>\n",
              "      <th>V20</th>\n",
              "      <th>V21</th>\n",
              "      <th>V22</th>\n",
              "      <th>V23</th>\n",
              "      <th>V24</th>\n",
              "      <th>V25</th>\n",
              "      <th>V26</th>\n",
              "      <th>V27</th>\n",
              "      <th>V28</th>\n",
              "      <th>Amount</th>\n",
              "      <th>Class</th>\n",
              "    </tr>\n",
              "  </thead>\n",
              "  <tbody>\n",
              "    <tr>\n",
              "      <th>0</th>\n",
              "      <td>0.0</td>\n",
              "      <td>-1.359807</td>\n",
              "      <td>-0.072781</td>\n",
              "      <td>2.536347</td>\n",
              "      <td>1.378155</td>\n",
              "      <td>-0.338321</td>\n",
              "      <td>0.462388</td>\n",
              "      <td>0.239599</td>\n",
              "      <td>0.098698</td>\n",
              "      <td>0.363787</td>\n",
              "      <td>0.090794</td>\n",
              "      <td>-0.551600</td>\n",
              "      <td>-0.617801</td>\n",
              "      <td>-0.991390</td>\n",
              "      <td>-0.311169</td>\n",
              "      <td>1.468177</td>\n",
              "      <td>-0.470401</td>\n",
              "      <td>0.207971</td>\n",
              "      <td>0.025791</td>\n",
              "      <td>0.403993</td>\n",
              "      <td>0.251412</td>\n",
              "      <td>-0.018307</td>\n",
              "      <td>0.277838</td>\n",
              "      <td>-0.110474</td>\n",
              "      <td>0.066928</td>\n",
              "      <td>0.128539</td>\n",
              "      <td>-0.189115</td>\n",
              "      <td>0.133558</td>\n",
              "      <td>-0.021053</td>\n",
              "      <td>149.62</td>\n",
              "      <td>0</td>\n",
              "    </tr>\n",
              "    <tr>\n",
              "      <th>1</th>\n",
              "      <td>0.0</td>\n",
              "      <td>1.191857</td>\n",
              "      <td>0.266151</td>\n",
              "      <td>0.166480</td>\n",
              "      <td>0.448154</td>\n",
              "      <td>0.060018</td>\n",
              "      <td>-0.082361</td>\n",
              "      <td>-0.078803</td>\n",
              "      <td>0.085102</td>\n",
              "      <td>-0.255425</td>\n",
              "      <td>-0.166974</td>\n",
              "      <td>1.612727</td>\n",
              "      <td>1.065235</td>\n",
              "      <td>0.489095</td>\n",
              "      <td>-0.143772</td>\n",
              "      <td>0.635558</td>\n",
              "      <td>0.463917</td>\n",
              "      <td>-0.114805</td>\n",
              "      <td>-0.183361</td>\n",
              "      <td>-0.145783</td>\n",
              "      <td>-0.069083</td>\n",
              "      <td>-0.225775</td>\n",
              "      <td>-0.638672</td>\n",
              "      <td>0.101288</td>\n",
              "      <td>-0.339846</td>\n",
              "      <td>0.167170</td>\n",
              "      <td>0.125895</td>\n",
              "      <td>-0.008983</td>\n",
              "      <td>0.014724</td>\n",
              "      <td>2.69</td>\n",
              "      <td>0</td>\n",
              "    </tr>\n",
              "    <tr>\n",
              "      <th>2</th>\n",
              "      <td>1.0</td>\n",
              "      <td>-1.358354</td>\n",
              "      <td>-1.340163</td>\n",
              "      <td>1.773209</td>\n",
              "      <td>0.379780</td>\n",
              "      <td>-0.503198</td>\n",
              "      <td>1.800499</td>\n",
              "      <td>0.791461</td>\n",
              "      <td>0.247676</td>\n",
              "      <td>-1.514654</td>\n",
              "      <td>0.207643</td>\n",
              "      <td>0.624501</td>\n",
              "      <td>0.066084</td>\n",
              "      <td>0.717293</td>\n",
              "      <td>-0.165946</td>\n",
              "      <td>2.345865</td>\n",
              "      <td>-2.890083</td>\n",
              "      <td>1.109969</td>\n",
              "      <td>-0.121359</td>\n",
              "      <td>-2.261857</td>\n",
              "      <td>0.524980</td>\n",
              "      <td>0.247998</td>\n",
              "      <td>0.771679</td>\n",
              "      <td>0.909412</td>\n",
              "      <td>-0.689281</td>\n",
              "      <td>-0.327642</td>\n",
              "      <td>-0.139097</td>\n",
              "      <td>-0.055353</td>\n",
              "      <td>-0.059752</td>\n",
              "      <td>378.66</td>\n",
              "      <td>0</td>\n",
              "    </tr>\n",
              "    <tr>\n",
              "      <th>3</th>\n",
              "      <td>1.0</td>\n",
              "      <td>-0.966272</td>\n",
              "      <td>-0.185226</td>\n",
              "      <td>1.792993</td>\n",
              "      <td>-0.863291</td>\n",
              "      <td>-0.010309</td>\n",
              "      <td>1.247203</td>\n",
              "      <td>0.237609</td>\n",
              "      <td>0.377436</td>\n",
              "      <td>-1.387024</td>\n",
              "      <td>-0.054952</td>\n",
              "      <td>-0.226487</td>\n",
              "      <td>0.178228</td>\n",
              "      <td>0.507757</td>\n",
              "      <td>-0.287924</td>\n",
              "      <td>-0.631418</td>\n",
              "      <td>-1.059647</td>\n",
              "      <td>-0.684093</td>\n",
              "      <td>1.965775</td>\n",
              "      <td>-1.232622</td>\n",
              "      <td>-0.208038</td>\n",
              "      <td>-0.108300</td>\n",
              "      <td>0.005274</td>\n",
              "      <td>-0.190321</td>\n",
              "      <td>-1.175575</td>\n",
              "      <td>0.647376</td>\n",
              "      <td>-0.221929</td>\n",
              "      <td>0.062723</td>\n",
              "      <td>0.061458</td>\n",
              "      <td>123.50</td>\n",
              "      <td>0</td>\n",
              "    </tr>\n",
              "    <tr>\n",
              "      <th>4</th>\n",
              "      <td>2.0</td>\n",
              "      <td>-1.158233</td>\n",
              "      <td>0.877737</td>\n",
              "      <td>1.548718</td>\n",
              "      <td>0.403034</td>\n",
              "      <td>-0.407193</td>\n",
              "      <td>0.095921</td>\n",
              "      <td>0.592941</td>\n",
              "      <td>-0.270533</td>\n",
              "      <td>0.817739</td>\n",
              "      <td>0.753074</td>\n",
              "      <td>-0.822843</td>\n",
              "      <td>0.538196</td>\n",
              "      <td>1.345852</td>\n",
              "      <td>-1.119670</td>\n",
              "      <td>0.175121</td>\n",
              "      <td>-0.451449</td>\n",
              "      <td>-0.237033</td>\n",
              "      <td>-0.038195</td>\n",
              "      <td>0.803487</td>\n",
              "      <td>0.408542</td>\n",
              "      <td>-0.009431</td>\n",
              "      <td>0.798278</td>\n",
              "      <td>-0.137458</td>\n",
              "      <td>0.141267</td>\n",
              "      <td>-0.206010</td>\n",
              "      <td>0.502292</td>\n",
              "      <td>0.219422</td>\n",
              "      <td>0.215153</td>\n",
              "      <td>69.99</td>\n",
              "      <td>0</td>\n",
              "    </tr>\n",
              "    <tr>\n",
              "      <th>...</th>\n",
              "      <td>...</td>\n",
              "      <td>...</td>\n",
              "      <td>...</td>\n",
              "      <td>...</td>\n",
              "      <td>...</td>\n",
              "      <td>...</td>\n",
              "      <td>...</td>\n",
              "      <td>...</td>\n",
              "      <td>...</td>\n",
              "      <td>...</td>\n",
              "      <td>...</td>\n",
              "      <td>...</td>\n",
              "      <td>...</td>\n",
              "      <td>...</td>\n",
              "      <td>...</td>\n",
              "      <td>...</td>\n",
              "      <td>...</td>\n",
              "      <td>...</td>\n",
              "      <td>...</td>\n",
              "      <td>...</td>\n",
              "      <td>...</td>\n",
              "      <td>...</td>\n",
              "      <td>...</td>\n",
              "      <td>...</td>\n",
              "      <td>...</td>\n",
              "      <td>...</td>\n",
              "      <td>...</td>\n",
              "      <td>...</td>\n",
              "      <td>...</td>\n",
              "      <td>...</td>\n",
              "      <td>...</td>\n",
              "    </tr>\n",
              "    <tr>\n",
              "      <th>284802</th>\n",
              "      <td>172786.0</td>\n",
              "      <td>-11.881118</td>\n",
              "      <td>10.071785</td>\n",
              "      <td>-9.834783</td>\n",
              "      <td>-2.066656</td>\n",
              "      <td>-5.364473</td>\n",
              "      <td>-2.606837</td>\n",
              "      <td>-4.918215</td>\n",
              "      <td>7.305334</td>\n",
              "      <td>1.914428</td>\n",
              "      <td>4.356170</td>\n",
              "      <td>-1.593105</td>\n",
              "      <td>2.711941</td>\n",
              "      <td>-0.689256</td>\n",
              "      <td>4.626942</td>\n",
              "      <td>-0.924459</td>\n",
              "      <td>1.107641</td>\n",
              "      <td>1.991691</td>\n",
              "      <td>0.510632</td>\n",
              "      <td>-0.682920</td>\n",
              "      <td>1.475829</td>\n",
              "      <td>0.213454</td>\n",
              "      <td>0.111864</td>\n",
              "      <td>1.014480</td>\n",
              "      <td>-0.509348</td>\n",
              "      <td>1.436807</td>\n",
              "      <td>0.250034</td>\n",
              "      <td>0.943651</td>\n",
              "      <td>0.823731</td>\n",
              "      <td>0.77</td>\n",
              "      <td>0</td>\n",
              "    </tr>\n",
              "    <tr>\n",
              "      <th>284803</th>\n",
              "      <td>172787.0</td>\n",
              "      <td>-0.732789</td>\n",
              "      <td>-0.055080</td>\n",
              "      <td>2.035030</td>\n",
              "      <td>-0.738589</td>\n",
              "      <td>0.868229</td>\n",
              "      <td>1.058415</td>\n",
              "      <td>0.024330</td>\n",
              "      <td>0.294869</td>\n",
              "      <td>0.584800</td>\n",
              "      <td>-0.975926</td>\n",
              "      <td>-0.150189</td>\n",
              "      <td>0.915802</td>\n",
              "      <td>1.214756</td>\n",
              "      <td>-0.675143</td>\n",
              "      <td>1.164931</td>\n",
              "      <td>-0.711757</td>\n",
              "      <td>-0.025693</td>\n",
              "      <td>-1.221179</td>\n",
              "      <td>-1.545556</td>\n",
              "      <td>0.059616</td>\n",
              "      <td>0.214205</td>\n",
              "      <td>0.924384</td>\n",
              "      <td>0.012463</td>\n",
              "      <td>-1.016226</td>\n",
              "      <td>-0.606624</td>\n",
              "      <td>-0.395255</td>\n",
              "      <td>0.068472</td>\n",
              "      <td>-0.053527</td>\n",
              "      <td>24.79</td>\n",
              "      <td>0</td>\n",
              "    </tr>\n",
              "    <tr>\n",
              "      <th>284804</th>\n",
              "      <td>172788.0</td>\n",
              "      <td>1.919565</td>\n",
              "      <td>-0.301254</td>\n",
              "      <td>-3.249640</td>\n",
              "      <td>-0.557828</td>\n",
              "      <td>2.630515</td>\n",
              "      <td>3.031260</td>\n",
              "      <td>-0.296827</td>\n",
              "      <td>0.708417</td>\n",
              "      <td>0.432454</td>\n",
              "      <td>-0.484782</td>\n",
              "      <td>0.411614</td>\n",
              "      <td>0.063119</td>\n",
              "      <td>-0.183699</td>\n",
              "      <td>-0.510602</td>\n",
              "      <td>1.329284</td>\n",
              "      <td>0.140716</td>\n",
              "      <td>0.313502</td>\n",
              "      <td>0.395652</td>\n",
              "      <td>-0.577252</td>\n",
              "      <td>0.001396</td>\n",
              "      <td>0.232045</td>\n",
              "      <td>0.578229</td>\n",
              "      <td>-0.037501</td>\n",
              "      <td>0.640134</td>\n",
              "      <td>0.265745</td>\n",
              "      <td>-0.087371</td>\n",
              "      <td>0.004455</td>\n",
              "      <td>-0.026561</td>\n",
              "      <td>67.88</td>\n",
              "      <td>0</td>\n",
              "    </tr>\n",
              "    <tr>\n",
              "      <th>284805</th>\n",
              "      <td>172788.0</td>\n",
              "      <td>-0.240440</td>\n",
              "      <td>0.530483</td>\n",
              "      <td>0.702510</td>\n",
              "      <td>0.689799</td>\n",
              "      <td>-0.377961</td>\n",
              "      <td>0.623708</td>\n",
              "      <td>-0.686180</td>\n",
              "      <td>0.679145</td>\n",
              "      <td>0.392087</td>\n",
              "      <td>-0.399126</td>\n",
              "      <td>-1.933849</td>\n",
              "      <td>-0.962886</td>\n",
              "      <td>-1.042082</td>\n",
              "      <td>0.449624</td>\n",
              "      <td>1.962563</td>\n",
              "      <td>-0.608577</td>\n",
              "      <td>0.509928</td>\n",
              "      <td>1.113981</td>\n",
              "      <td>2.897849</td>\n",
              "      <td>0.127434</td>\n",
              "      <td>0.265245</td>\n",
              "      <td>0.800049</td>\n",
              "      <td>-0.163298</td>\n",
              "      <td>0.123205</td>\n",
              "      <td>-0.569159</td>\n",
              "      <td>0.546668</td>\n",
              "      <td>0.108821</td>\n",
              "      <td>0.104533</td>\n",
              "      <td>10.00</td>\n",
              "      <td>0</td>\n",
              "    </tr>\n",
              "    <tr>\n",
              "      <th>284806</th>\n",
              "      <td>172792.0</td>\n",
              "      <td>-0.533413</td>\n",
              "      <td>-0.189733</td>\n",
              "      <td>0.703337</td>\n",
              "      <td>-0.506271</td>\n",
              "      <td>-0.012546</td>\n",
              "      <td>-0.649617</td>\n",
              "      <td>1.577006</td>\n",
              "      <td>-0.414650</td>\n",
              "      <td>0.486180</td>\n",
              "      <td>-0.915427</td>\n",
              "      <td>-1.040458</td>\n",
              "      <td>-0.031513</td>\n",
              "      <td>-0.188093</td>\n",
              "      <td>-0.084316</td>\n",
              "      <td>0.041333</td>\n",
              "      <td>-0.302620</td>\n",
              "      <td>-0.660377</td>\n",
              "      <td>0.167430</td>\n",
              "      <td>-0.256117</td>\n",
              "      <td>0.382948</td>\n",
              "      <td>0.261057</td>\n",
              "      <td>0.643078</td>\n",
              "      <td>0.376777</td>\n",
              "      <td>0.008797</td>\n",
              "      <td>-0.473649</td>\n",
              "      <td>-0.818267</td>\n",
              "      <td>-0.002415</td>\n",
              "      <td>0.013649</td>\n",
              "      <td>217.00</td>\n",
              "      <td>0</td>\n",
              "    </tr>\n",
              "  </tbody>\n",
              "</table>\n",
              "<p>284807 rows × 31 columns</p>\n",
              "</div>\n",
              "      <button class=\"colab-df-convert\" onclick=\"convertToInteractive('df-0e44d3a4-d80e-4ec2-bdb3-6cc16e1d10cb')\"\n",
              "              title=\"Convert this dataframe to an interactive table.\"\n",
              "              style=\"display:none;\">\n",
              "        \n",
              "  <svg xmlns=\"http://www.w3.org/2000/svg\" height=\"24px\"viewBox=\"0 0 24 24\"\n",
              "       width=\"24px\">\n",
              "    <path d=\"M0 0h24v24H0V0z\" fill=\"none\"/>\n",
              "    <path d=\"M18.56 5.44l.94 2.06.94-2.06 2.06-.94-2.06-.94-.94-2.06-.94 2.06-2.06.94zm-11 1L8.5 8.5l.94-2.06 2.06-.94-2.06-.94L8.5 2.5l-.94 2.06-2.06.94zm10 10l.94 2.06.94-2.06 2.06-.94-2.06-.94-.94-2.06-.94 2.06-2.06.94z\"/><path d=\"M17.41 7.96l-1.37-1.37c-.4-.4-.92-.59-1.43-.59-.52 0-1.04.2-1.43.59L10.3 9.45l-7.72 7.72c-.78.78-.78 2.05 0 2.83L4 21.41c.39.39.9.59 1.41.59.51 0 1.02-.2 1.41-.59l7.78-7.78 2.81-2.81c.8-.78.8-2.07 0-2.86zM5.41 20L4 18.59l7.72-7.72 1.47 1.35L5.41 20z\"/>\n",
              "  </svg>\n",
              "      </button>\n",
              "      \n",
              "  <style>\n",
              "    .colab-df-container {\n",
              "      display:flex;\n",
              "      flex-wrap:wrap;\n",
              "      gap: 12px;\n",
              "    }\n",
              "\n",
              "    .colab-df-convert {\n",
              "      background-color: #E8F0FE;\n",
              "      border: none;\n",
              "      border-radius: 50%;\n",
              "      cursor: pointer;\n",
              "      display: none;\n",
              "      fill: #1967D2;\n",
              "      height: 32px;\n",
              "      padding: 0 0 0 0;\n",
              "      width: 32px;\n",
              "    }\n",
              "\n",
              "    .colab-df-convert:hover {\n",
              "      background-color: #E2EBFA;\n",
              "      box-shadow: 0px 1px 2px rgba(60, 64, 67, 0.3), 0px 1px 3px 1px rgba(60, 64, 67, 0.15);\n",
              "      fill: #174EA6;\n",
              "    }\n",
              "\n",
              "    [theme=dark] .colab-df-convert {\n",
              "      background-color: #3B4455;\n",
              "      fill: #D2E3FC;\n",
              "    }\n",
              "\n",
              "    [theme=dark] .colab-df-convert:hover {\n",
              "      background-color: #434B5C;\n",
              "      box-shadow: 0px 1px 3px 1px rgba(0, 0, 0, 0.15);\n",
              "      filter: drop-shadow(0px 1px 2px rgba(0, 0, 0, 0.3));\n",
              "      fill: #FFFFFF;\n",
              "    }\n",
              "  </style>\n",
              "\n",
              "      <script>\n",
              "        const buttonEl =\n",
              "          document.querySelector('#df-0e44d3a4-d80e-4ec2-bdb3-6cc16e1d10cb button.colab-df-convert');\n",
              "        buttonEl.style.display =\n",
              "          google.colab.kernel.accessAllowed ? 'block' : 'none';\n",
              "\n",
              "        async function convertToInteractive(key) {\n",
              "          const element = document.querySelector('#df-0e44d3a4-d80e-4ec2-bdb3-6cc16e1d10cb');\n",
              "          const dataTable =\n",
              "            await google.colab.kernel.invokeFunction('convertToInteractive',\n",
              "                                                     [key], {});\n",
              "          if (!dataTable) return;\n",
              "\n",
              "          const docLinkHtml = 'Like what you see? Visit the ' +\n",
              "            '<a target=\"_blank\" href=https://colab.research.google.com/notebooks/data_table.ipynb>data table notebook</a>'\n",
              "            + ' to learn more about interactive tables.';\n",
              "          element.innerHTML = '';\n",
              "          dataTable['output_type'] = 'display_data';\n",
              "          await google.colab.output.renderOutput(dataTable, element);\n",
              "          const docLink = document.createElement('div');\n",
              "          docLink.innerHTML = docLinkHtml;\n",
              "          element.appendChild(docLink);\n",
              "        }\n",
              "      </script>\n",
              "    </div>\n",
              "  </div>\n",
              "  "
            ],
            "text/plain": [
              "            Time         V1         V2  ...       V28  Amount  Class\n",
              "0            0.0  -1.359807  -0.072781  ... -0.021053  149.62      0\n",
              "1            0.0   1.191857   0.266151  ...  0.014724    2.69      0\n",
              "2            1.0  -1.358354  -1.340163  ... -0.059752  378.66      0\n",
              "3            1.0  -0.966272  -0.185226  ...  0.061458  123.50      0\n",
              "4            2.0  -1.158233   0.877737  ...  0.215153   69.99      0\n",
              "...          ...        ...        ...  ...       ...     ...    ...\n",
              "284802  172786.0 -11.881118  10.071785  ...  0.823731    0.77      0\n",
              "284803  172787.0  -0.732789  -0.055080  ... -0.053527   24.79      0\n",
              "284804  172788.0   1.919565  -0.301254  ... -0.026561   67.88      0\n",
              "284805  172788.0  -0.240440   0.530483  ...  0.104533   10.00      0\n",
              "284806  172792.0  -0.533413  -0.189733  ...  0.013649  217.00      0\n",
              "\n",
              "[284807 rows x 31 columns]"
            ]
          },
          "metadata": {},
          "execution_count": 6
        }
      ]
    },
    {
      "cell_type": "markdown",
      "source": [
        "# Preprocessing"
      ],
      "metadata": {
        "id": "3M7nWb9eL0dp"
      }
    },
    {
      "cell_type": "code",
      "metadata": {
        "id": "lA__wmw-SIBP",
        "colab": {
          "base_uri": "https://localhost:8080/"
        },
        "outputId": "c90067d7-29b6-4ef3-f585-e84b7f9ff0fe"
      },
      "source": [
        "# Удаляем столбец со временем\n",
        "data = df.drop(['Time'], axis=1)\n",
        "# Нормализуем столбец с суммой транзакции\n",
        "data['Amount'] = StandardScaler().fit_transform(data['Amount'].values.reshape(-1, 1))\n",
        "\n",
        "# разделяем транзакции на мошеннические/нормальные\n",
        "frauds = data[data.Class == 1] \n",
        "normal = data[data.Class == 0] \n",
        "\n",
        "print('Количество  мошеннических трмнзакций:' , frauds.shape[0]) # смотрим какие размеры у мошеннических операций\n",
        "print('Количество  нормальных трмнзакций:' ,normal.shape[0]) # смотрим какие размеры у нормальных операций"
      ],
      "execution_count": 7,
      "outputs": [
        {
          "output_type": "stream",
          "name": "stdout",
          "text": [
            "Количество  мошеннических трмнзакций: 492\n",
            "Количество  нормальных трмнзакций: 284315\n"
          ]
        }
      ]
    },
    {
      "cell_type": "markdown",
      "source": [
        "# Short Plan"
      ],
      "metadata": {
        "id": "tjzqUqNvGYSI"
      }
    },
    {
      "cell_type": "markdown",
      "source": [
        "**- Очевиден огромных дизбаланс классов.**\n",
        "\n",
        "**- Поэтому в качесте модели детекции мошеннических транзакций будем использовать автокодировщик, который будет обучаться только на нормальных транзакциях.**\n",
        "\n",
        "**- В итоге мы получим модель, которая, получив на вход нормальные транзакции, с высокой точностью их восстановит, а ошибка будет минимальной.**\n",
        "\n",
        "**- С другой стороны, если на данную модель подать ошибочные транзакции, то у неё не получится в полной мере их восстановить, а ошибка будет большой.**\n",
        "\n",
        "**- Таким образом по величине ошибки можно будет определить к какому типу относится транзакция.**\n",
        "\n",
        "**- Так же важно будет подобрать пороговое значение bias. Его роль заключатся в том, что транзакция, на которой величина ошибки выше данного bias, будет отнесена к мошенничесим, если величина ошибки ниже, то к нормальным.**\n",
        "\n",
        "**- Найти оптимальный bias.**"
      ],
      "metadata": {
        "id": "yQDnrfnGCLQW"
      }
    },
    {
      "cell_type": "code",
      "metadata": {
        "id": "8zFrSDquSTFq"
      },
      "source": [
        "##################################################################\n",
        "# Разбиваем нормальные транзакции на обучающую и тестовую выборки.\n",
        "##################################################################\n",
        "\n",
        "RANDOM_SEED = 42 \n",
        "X_train, X_test = train_test_split(normal, test_size=0.2, random_state=RANDOM_SEED)"
      ],
      "execution_count": 9,
      "outputs": []
    },
    {
      "cell_type": "code",
      "metadata": {
        "id": "GvRIAqvDSUon"
      },
      "source": [
        "# Удаляем метки в обучающем наборе данных\n",
        "X_train = X_train.drop(['Class'], axis=1)\n",
        "\n",
        "# Добавляем все мошеннические транзакции в тестовый набор данных\n",
        "X_test = pd.concat([X_test, frauds])\n",
        "\n",
        "# Создаем массив из одних меток\n",
        "y_test = X_test['Class']\n",
        "\n",
        "# Удаляем метки у тестового набора данных\n",
        "X_test = X_test.drop(['Class'], axis=1)\n",
        "\n",
        "# Преобразуем данные в массивы numpy\n",
        "X_train = X_train.values\n",
        "X_test = X_test.values"
      ],
      "execution_count": 10,
      "outputs": []
    },
    {
      "cell_type": "code",
      "metadata": {
        "id": "WqflqXicbX7b",
        "colab": {
          "base_uri": "https://localhost:8080/"
        },
        "outputId": "24d68308-c32f-4f3b-dba9-d4d659aa44e8"
      },
      "source": [
        "print(X_train.shape) # взглянем на размеры обучающих данных"
      ],
      "execution_count": 11,
      "outputs": [
        {
          "output_type": "stream",
          "name": "stdout",
          "text": [
            "(227452, 29)\n"
          ]
        }
      ]
    },
    {
      "cell_type": "markdown",
      "source": [
        "# Modelling"
      ],
      "metadata": {
        "id": "5lnl1OwUMCBv"
      }
    },
    {
      "cell_type": "code",
      "metadata": {
        "id": "6pdKLikabrGS"
      },
      "source": [
        "def creditcardAutoencoder(): # объявляем автокодировщик для определения мошенич.транзакций\n",
        "  dataSize = X_train.shape[1] # берём размеры X_train по второй оси(30)\n",
        "  dataInput = Input(shape=(dataSize, )) # задаем эти размеры как входные в сеть\n",
        "  \n",
        "  x = Dense(dataSize, activation='relu')(dataInput) # пропускаем через полносвязный слой размером 10\n",
        "  x = Dense(32, activation='relu')(x) # пропускаем через полносвязный слой размером 1\n",
        "  x = Dropout(0.1)(x)\n",
        "  x = Dense(128, activation='relu')(x) # пропускаем через полносвязный слой размером 1\n",
        "  x = Dropout(0.1)(x)\n",
        "  x = Dense(32, activation='relu')(x) # пропускаем через полносвязный слой размером 1\n",
        "  x = Dropout(0.1)(x)\n",
        "  x = Dense(dataSize, activation='linear')(x) # и через полносвязный слой размером 29 \n",
        "  \n",
        "  autoencoder = Model(inputs=dataInput, outputs=x) # собрали модель \n",
        "  \n",
        "  autoencoder.compile(optimizer=Adam(learning_rate=0.001,), loss='mse') # компилируем модель также, с выбором оптимайзера и среднеквадратичной ошибки\n",
        "  \n",
        "  return autoencoder "
      ],
      "execution_count": 74,
      "outputs": []
    },
    {
      "cell_type": "code",
      "source": [
        "# model.compile()"
      ],
      "metadata": {
        "id": "pmgxFBLoovVn"
      },
      "execution_count": 75,
      "outputs": []
    },
    {
      "cell_type": "code",
      "metadata": {
        "id": "rPcOmHQY2itw"
      },
      "source": [
        "model = creditcardAutoencoder()"
      ],
      "execution_count": 76,
      "outputs": []
    },
    {
      "cell_type": "code",
      "source": [
        "utils.plot_model(model, dpi=70, show_shapes=True)"
      ],
      "metadata": {
        "colab": {
          "base_uri": "https://localhost:8080/",
          "height": 716
        },
        "id": "xrNrVdvCMJVO",
        "outputId": "41790256-be62-4852-9efd-4f30343206ba"
      },
      "execution_count": 77,
      "outputs": [
        {
          "output_type": "execute_result",
          "data": {
            "image/png": "[encoded data removed]",
            "text/plain": [
              "<IPython.core.display.Image object>"
            ]
          },
          "metadata": {},
          "execution_count": 77
        }
      ]
    },
    {
      "cell_type": "code",
      "metadata": {
        "id": "N2LjGoPncgRS",
        "colab": {
          "base_uri": "https://localhost:8080/"
        },
        "outputId": "d859d4ea-4bae-4cb1-b037-83c3444151c0"
      },
      "source": [
        "history = model.fit(X_train, X_train,\n",
        "                    epochs=50,\n",
        "                    batch_size=256) # загружаем данные в модель(X_train'ы) и обучаем"
      ],
      "execution_count": 25,
      "outputs": [
        {
          "output_type": "stream",
          "name": "stdout",
          "text": [
            "Epoch 1/50\n",
            "889/889 [==============================] - 4s 4ms/step - loss: 0.4745\n",
            "Epoch 2/50\n",
            "889/889 [==============================] - 4s 4ms/step - loss: 0.3101\n",
            "Epoch 3/50\n",
            "889/889 [==============================] - 4s 4ms/step - loss: 0.2721\n",
            "Epoch 4/50\n",
            "889/889 [==============================] - 4s 4ms/step - loss: 0.2564\n",
            "Epoch 5/50\n",
            "889/889 [==============================] - 4s 4ms/step - loss: 0.2408\n",
            "Epoch 6/50\n",
            "889/889 [==============================] - 4s 4ms/step - loss: 0.2316\n",
            "Epoch 7/50\n",
            "889/889 [==============================] - 4s 4ms/step - loss: 0.2249\n",
            "Epoch 8/50\n",
            "889/889 [==============================] - 4s 4ms/step - loss: 0.2192\n",
            "Epoch 9/50\n",
            "889/889 [==============================] - 4s 4ms/step - loss: 0.2170\n",
            "Epoch 10/50\n",
            "889/889 [==============================] - 4s 4ms/step - loss: 0.2104\n",
            "Epoch 11/50\n",
            "889/889 [==============================] - 4s 4ms/step - loss: 0.2053\n",
            "Epoch 12/50\n",
            "889/889 [==============================] - 4s 4ms/step - loss: 0.2042\n",
            "Epoch 13/50\n",
            "889/889 [==============================] - 4s 4ms/step - loss: 0.2035\n",
            "Epoch 14/50\n",
            "889/889 [==============================] - 4s 4ms/step - loss: 0.1979\n",
            "Epoch 15/50\n",
            "889/889 [==============================] - 4s 4ms/step - loss: 0.1934\n",
            "Epoch 16/50\n",
            "889/889 [==============================] - 4s 4ms/step - loss: 0.1902\n",
            "Epoch 17/50\n",
            "889/889 [==============================] - 4s 4ms/step - loss: 0.1910\n",
            "Epoch 18/50\n",
            "889/889 [==============================] - 4s 4ms/step - loss: 0.1892\n",
            "Epoch 19/50\n",
            "889/889 [==============================] - 4s 4ms/step - loss: 0.1870\n",
            "Epoch 20/50\n",
            "889/889 [==============================] - 4s 4ms/step - loss: 0.1866\n",
            "Epoch 21/50\n",
            "889/889 [==============================] - 4s 4ms/step - loss: 0.1843\n",
            "Epoch 22/50\n",
            "889/889 [==============================] - 4s 4ms/step - loss: 0.1845\n",
            "Epoch 23/50\n",
            "889/889 [==============================] - 4s 4ms/step - loss: 0.1855\n",
            "Epoch 24/50\n",
            "889/889 [==============================] - 4s 4ms/step - loss: 0.1807\n",
            "Epoch 25/50\n",
            "889/889 [==============================] - 4s 4ms/step - loss: 0.1805\n",
            "Epoch 26/50\n",
            "889/889 [==============================] - 4s 4ms/step - loss: 0.1805\n",
            "Epoch 27/50\n",
            "889/889 [==============================] - 4s 4ms/step - loss: 0.1800\n",
            "Epoch 28/50\n",
            "889/889 [==============================] - 4s 4ms/step - loss: 0.1760\n",
            "Epoch 29/50\n",
            "889/889 [==============================] - 4s 4ms/step - loss: 0.1790\n",
            "Epoch 30/50\n",
            "889/889 [==============================] - 4s 4ms/step - loss: 0.1756\n",
            "Epoch 31/50\n",
            "889/889 [==============================] - 4s 5ms/step - loss: 0.1756\n",
            "Epoch 32/50\n",
            "889/889 [==============================] - 4s 4ms/step - loss: 0.1763\n",
            "Epoch 33/50\n",
            "889/889 [==============================] - 4s 4ms/step - loss: 0.1759\n",
            "Epoch 34/50\n",
            "889/889 [==============================] - 4s 5ms/step - loss: 0.1746\n",
            "Epoch 35/50\n",
            "889/889 [==============================] - 4s 4ms/step - loss: 0.1757\n",
            "Epoch 36/50\n",
            "889/889 [==============================] - 4s 4ms/step - loss: 0.1752\n",
            "Epoch 37/50\n",
            "889/889 [==============================] - 4s 4ms/step - loss: 0.1720\n",
            "Epoch 38/50\n",
            "889/889 [==============================] - 4s 4ms/step - loss: 0.1740\n",
            "Epoch 39/50\n",
            "889/889 [==============================] - 4s 4ms/step - loss: 0.1750\n",
            "Epoch 40/50\n",
            "889/889 [==============================] - 4s 4ms/step - loss: 0.1740\n",
            "Epoch 41/50\n",
            "889/889 [==============================] - 4s 4ms/step - loss: 0.1751\n",
            "Epoch 42/50\n",
            "889/889 [==============================] - 4s 4ms/step - loss: 0.1721\n",
            "Epoch 43/50\n",
            "889/889 [==============================] - 4s 4ms/step - loss: 0.1703\n",
            "Epoch 44/50\n",
            "889/889 [==============================] - 4s 4ms/step - loss: 0.1758\n",
            "Epoch 45/50\n",
            "889/889 [==============================] - 4s 4ms/step - loss: 0.1739\n",
            "Epoch 46/50\n",
            "889/889 [==============================] - 4s 5ms/step - loss: 0.1714\n",
            "Epoch 47/50\n",
            "889/889 [==============================] - 4s 4ms/step - loss: 0.1726\n",
            "Epoch 48/50\n",
            "889/889 [==============================] - 4s 4ms/step - loss: 0.1731\n",
            "Epoch 49/50\n",
            "889/889 [==============================] - 4s 4ms/step - loss: 0.1725\n",
            "Epoch 50/50\n",
            "889/889 [==============================] - 4s 4ms/step - loss: 0.1719\n"
          ]
        }
      ]
    },
    {
      "cell_type": "code",
      "metadata": {
        "id": "g9MvBAaT-RZV"
      },
      "source": [
        "model.save_weights('/content/drive/MyDrive/Модели/modelCredit.h5') # Сохраняем веса модели\n"
      ],
      "execution_count": 26,
      "outputs": []
    },
    {
      "cell_type": "code",
      "source": [
        "model.load_weights('/content/drive/MyDrive/Модели/modelCredit.h5') # Загружаем веса модели"
      ],
      "metadata": {
        "id": "doMht0VStuYC"
      },
      "execution_count": 78,
      "outputs": []
    },
    {
      "cell_type": "code",
      "metadata": {
        "id": "kQ3TVd5J5hOu",
        "colab": {
          "base_uri": "https://localhost:8080/",
          "height": 428
        },
        "outputId": "0643a9f9-2315-4e95-edc7-3189e87bc58e"
      },
      "source": [
        "#Выводим графики\n",
        "plt.figure(figsize=(14,7))\n",
        "plt.plot(history.history['loss'], \n",
        "         label='Ошибка на обучающем наборе')\n",
        "plt.ylabel('Средняя ошибка')\n",
        "plt.legend()\n",
        "plt.show()"
      ],
      "execution_count": 28,
      "outputs": [
        {
          "output_type": "display_data",
          "data": {
            "image/png": "[encoded data removed]",
            "text/plain": [
              "<Figure size 1008x504 with 1 Axes>"
            ]
          },
          "metadata": {}
        }
      ]
    },
    {
      "cell_type": "code",
      "metadata": {
        "id": "g_a2nEGcdSLg"
      },
      "source": [
        "predictions = model.predict(X_test) # делаем предсказание по X_test"
      ],
      "execution_count": 79,
      "outputs": []
    },
    {
      "cell_type": "code",
      "source": [
        "X_test[0]"
      ],
      "metadata": {
        "colab": {
          "base_uri": "https://localhost:8080/"
        },
        "id": "ZkKku71Dt-zg",
        "outputId": "2c5c9b4b-0153-4097-eb84-ea024ff4ed51"
      },
      "execution_count": 81,
      "outputs": [
        {
          "output_type": "execute_result",
          "data": {
            "text/plain": [
              "array([ 1.31453919,  0.59064276, -0.66659342,  0.71656434,  0.30197787,\n",
              "       -1.12546747,  0.38888053, -0.28838964, -0.13213745, -0.59773893,\n",
              "       -0.32534664, -0.21643538,  0.08420408, -1.05463056,  0.96793203,\n",
              "        0.60122627,  0.63111664,  0.29507797, -0.1361507 , -0.05804041,\n",
              "       -0.17030728, -0.42965504, -0.14134068, -0.20019463,  0.63949149,\n",
              "        0.39947569, -0.03432101,  0.03169241, -0.35019085])"
            ]
          },
          "metadata": {},
          "execution_count": 81
        }
      ]
    },
    {
      "cell_type": "markdown",
      "source": [
        "**Определяем среднеквадратичную ошибку по X_test и предсказанием по X_test**"
      ],
      "metadata": {
        "id": "m4H_IrTXuLOf"
      }
    },
    {
      "cell_type": "code",
      "metadata": {
        "id": "hjMqaIY8dVKX"
      },
      "source": [
        "mse = np.mean(np.power(X_test - predictions, 2), axis=1) "
      ],
      "execution_count": 84,
      "outputs": []
    },
    {
      "cell_type": "code",
      "source": [
        ""
      ],
      "metadata": {
        "id": "jdt1bC0SuUkd"
      },
      "execution_count": null,
      "outputs": []
    },
    {
      "cell_type": "markdown",
      "source": [
        "**Анализируем предсказания на тестовой выборке**"
      ],
      "metadata": {
        "id": "PMVBiYe3uhuG"
      }
    },
    {
      "cell_type": "code",
      "metadata": {
        "id": "t9L_kEtfeel2"
      },
      "source": [
        "mse_normal = mse[y_test.values == 0] # среднеквадратичная ошибка на нормальных операциях\n",
        "mse_frauds = mse[y_test.values == 1] # среднеквадратичная ошибка на мошеннических операциях"
      ],
      "execution_count": 85,
      "outputs": []
    },
    {
      "cell_type": "code",
      "source": [
        "print(\"Минимальная ошибка нормальных транзакций:\", round(min(mse_normal),4)) #найдем минимальную среднеквадратичную ошибку на нормальных операциях\n",
        "print(\"Максимальная ошибка нормальных транзакций:\", round(max(mse_normal),4)) #найдем максимальную среднеквадратичную ошибку на нормальных операциях\n",
        "print(\"Средняя ошибка нормальных транзакций:\", round(sum(mse_normal) / len(mse_normal),4)) # среднюю ошибку"
      ],
      "metadata": {
        "colab": {
          "base_uri": "https://localhost:8080/"
        },
        "id": "4ZgyS6whPQsH",
        "outputId": "251ffa3e-54d1-4760-cbf9-69c95683263a"
      },
      "execution_count": 86,
      "outputs": [
        {
          "output_type": "stream",
          "name": "stdout",
          "text": [
            "Минимальная ошибка нормальных транзакций: 0.0046\n",
            "Максимальная ошибка нормальных транзакций: 141.8194\n",
            "Средняя ошибка нормальных транзакций: 0.0735\n"
          ]
        }
      ]
    },
    {
      "cell_type": "code",
      "source": [
        "print(\"Минимальная ошибка мошеннических транзакций:\", round(min(mse_frauds),4)) #найдем минимальную среднеквадратичную ошибку на мошеннических операциях\n",
        "print(\"Максимальная ошибка мошеннических транзакций:\", round(max(mse_frauds),4)) #найдем максимальную среднеквадратичную ошибку на мошеннических операциях\n",
        "print(\"Средняя ошибка мошеннических транзакций:\", round(sum(mse_frauds) / len(mse_frauds),4)) # среднюю ошибку"
      ],
      "metadata": {
        "colab": {
          "base_uri": "https://localhost:8080/"
        },
        "id": "Yo-nAxbNPp1X",
        "outputId": "b4012bac-8e7f-4f2a-8eea-add5296aec55"
      },
      "execution_count": 87,
      "outputs": [
        {
          "output_type": "stream",
          "name": "stdout",
          "text": [
            "Минимальная ошибка мошеннических транзакций: 0.0121\n",
            "Максимальная ошибка мошеннических транзакций: 72.7978\n",
            "Средняя ошибка мошеннических транзакций: 17.2829\n"
          ]
        }
      ]
    },
    {
      "cell_type": "code",
      "source": [
        ""
      ],
      "metadata": {
        "id": "4gC76jJDug14"
      },
      "execution_count": 87,
      "outputs": []
    },
    {
      "cell_type": "markdown",
      "source": [
        "# bias selection"
      ],
      "metadata": {
        "id": "9vsNAAsQ7eva"
      }
    },
    {
      "cell_type": "code",
      "metadata": {
        "id": "XuLDoTK0Tlux"
      },
      "source": [
        "####################################################\n",
        "# Функция возвращает список точностей распознавания.\n",
        "####################################################\n",
        "\n",
        "def getAccByBias(bias): # функция будет принимать какое то пороговое значение\n",
        "  isNormal = mse_normal < bias # если ошибка меньше порога - то транзакция нормальная\n",
        "  isFrauds = mse_frauds > bias # если ошибка больше порога - то транзакция мошенническая\n",
        "\n",
        "  accNormal = sum(isNormal) / len(isNormal) # вычисляем процент нормальных операций\n",
        "  accNormal = round(100*accNormal)\n",
        "\n",
        "  accFaruds = sum(isFrauds) / len(isFrauds) # вычисляем процент мошеннических операций\n",
        "  accFaruds = round(100*accFaruds)\n",
        "\n",
        "  acc_all = round((accNormal + accFaruds)/2) # вычисляется общая точность распознавания\n",
        "\n",
        "\n",
        "  print(\"Распознано нормальных транзакций: \", accNormal, \"%\", sep=\"\")\n",
        "  print(\"Распознано мошеннических транзакций: \", accFaruds, \"%\", sep=\"\")\n",
        "  print(\"Средняя точность распознавания: \", acc_all, \"%\", sep=\"\")  \n",
        "\n",
        "  return [accNormal, accFaruds, acc_all]\n",
        "\n"
      ],
      "execution_count": 123,
      "outputs": []
    },
    {
      "cell_type": "code",
      "metadata": {
        "colab": {
          "base_uri": "https://localhost:8080/"
        },
        "id": "LDL0bhLrdRZm",
        "outputId": "1cc96f81-abbe-4535-e65a-95c417a99632"
      },
      "source": [
        "# Удостоверимся, что точность оптимальна\n",
        "getAccByBias(0.10) # выведем данные по распознаванию с конкретным пороговым значением"
      ],
      "execution_count": 117,
      "outputs": [
        {
          "output_type": "stream",
          "name": "stdout",
          "text": [
            "Распознано нормальных транзакций: 89%\n",
            "Распознано мошеннических транзакций: 90%\n",
            "Средняя точность распознавания: 90%\n"
          ]
        },
        {
          "output_type": "execute_result",
          "data": {
            "text/plain": [
              "[89, 90, 90]"
            ]
          },
          "metadata": {},
          "execution_count": 117
        }
      ]
    },
    {
      "cell_type": "code",
      "metadata": {
        "id": "Lk8lhgjNywL0"
      },
      "source": [
        ""
      ],
      "execution_count": null,
      "outputs": []
    },
    {
      "cell_type": "code",
      "source": [
        "####################################################\n",
        "# Функция возвращает список точностей распознавания.\n",
        "####################################################\n",
        "\n",
        "def getAccByBias(bias): # функция будет принимать какое то пороговое значение\n",
        "  isNormal = mse_normal < bias # если ошибка меньше порога - то транзакция нормальная\n",
        "  isFrauds = mse_frauds > bias # если ошибка больше порога - то транзакция мошенническая\n",
        "\n",
        "  accNormal = sum(isNormal) / len(isNormal) # вычисляем процент нормальных операций\n",
        "  accNormal = round(100*accNormal)\n",
        "\n",
        "  accFaruds = sum(isFrauds) / len(isFrauds) # вычисляем процент мошеннических операций\n",
        "  accFaruds = round(100*accFaruds)\n",
        "\n",
        "  acc_all = round((accNormal + accFaruds)/2) # вычисляется общая точность распознавания\n",
        "\n",
        "  return [accNormal, accFaruds, acc_all]"
      ],
      "metadata": {
        "id": "pfhrdV0q4pjt"
      },
      "execution_count": 119,
      "outputs": []
    },
    {
      "cell_type": "code",
      "metadata": {
        "id": "pAkAZBrGywUH"
      },
      "source": [
        "#Создаем массивы\n",
        "y_true =  []#массив ошибок на нормальных опрациях\n",
        "y_false = []#массив ошибок на ложных операциях\n",
        "x_bias =  []#массив биасов, соответствующих ошибкам\n",
        "for i in np.arange(0, 3, 0.05):\n",
        "  a = getAccByBias(i)[0]\n",
        "  b = getAccByBias(i)[1]\n",
        "  y_true.append(a)\n",
        "  y_false.append(b)\n",
        "  x_bias.append(i)\n",
        "\n"
      ],
      "execution_count": 120,
      "outputs": []
    },
    {
      "cell_type": "code",
      "source": [
        "# Строим графики зависимости ошибки от изменения биаса\n",
        "fig = plt.figure(figsize=(25,10))\n",
        "ax = fig.add_subplot(111)\n",
        "ax.plot(x_bias,y_true, color = 'green')\n",
        "ax.plot(x_bias,y_false,color = 'black')\n",
        "\n",
        "ax.grid(which='major',\n",
        "        color = 'k')\n",
        "\n",
        "plt.xticks(np.arange(min(x_bias), max(x_bias)+1, 0.1),fontsize=15)\n",
        "plt.yticks(np.arange(0,100,10),fontsize=25)\n",
        "\n",
        "plt.show()"
      ],
      "metadata": {
        "colab": {
          "base_uri": "https://localhost:8080/",
          "height": 374
        },
        "id": "bjCjbMyEQVNw",
        "outputId": "ab962e22-844d-45dd-c766-f7e477d6df53"
      },
      "execution_count": 121,
      "outputs": [
        {
          "output_type": "display_data",
          "data": {
            "image/png": "[encoded data removed]",
            "text/plain": [
              "<Figure size 1800x720 with 1 Axes>"
            ]
          },
          "metadata": {
            "needs_background": "light"
          }
        }
      ]
    },
    {
      "cell_type": "code",
      "metadata": {
        "id": "k0K6qWkJ1Wt4",
        "colab": {
          "base_uri": "https://localhost:8080/"
        },
        "outputId": "7b835c85-20cd-4e66-fed6-a2adcdfb299a"
      },
      "source": [
        "getAccByBias(0.10)"
      ],
      "execution_count": 124,
      "outputs": [
        {
          "output_type": "stream",
          "name": "stdout",
          "text": [
            "Распознано нормальных транзакций: 89%\n",
            "Распознано мошеннических транзакций: 90%\n",
            "Средняя точность распознавания: 90%\n"
          ]
        },
        {
          "output_type": "execute_result",
          "data": {
            "text/plain": [
              "[89, 90, 90]"
            ]
          },
          "metadata": {},
          "execution_count": 124
        }
      ]
    },
    {
      "cell_type": "markdown",
      "metadata": {
        "id": "POkrdsoq9bOV"
      },
      "source": [
        "**Оптимальный bias: 0.1 - пересечение графиков ошибок**\n"
      ]
    }
  ]
}