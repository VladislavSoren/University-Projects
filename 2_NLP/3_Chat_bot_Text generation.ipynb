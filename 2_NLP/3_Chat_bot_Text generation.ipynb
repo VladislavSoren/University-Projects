{
  "nbformat": 4,
  "nbformat_minor": 0,
  "metadata": {
    "colab": {
      "name": "23_Pro.ipynb\"\"",
      "provenance": [],
      "collapsed_sections": [],
      "toc_visible": true
    },
    "kernelspec": {
      "name": "python3",
      "display_name": "Python 3"
    },
    "language_info": {
      "name": "python"
    }
  },
  "cells": [
    {
      "cell_type": "markdown",
      "metadata": {
        "id": "baRUf0b2aMe-"
      },
      "source": [
        "# Task\n",
        "**Create a chat bot**"
      ]
    },
    {
      "cell_type": "code",
      "metadata": {
        "id": "qPA4rCbVLGEj"
      },
      "source": [
        "from google.colab import files                              # модуль для загрузки файлов в colab\n",
        "import numpy as np                                          # библиотека для работы с массивами данных\n",
        "\n",
        "from tensorflow.keras.models import Model, load_model       # из кераса подгружаем абстрактный класс базовой модели, метод загрузки предобученной модели\n",
        "from tensorflow.keras.layers import Dense, Embedding, LSTM, Input # из кераса загружаем необходимые слои для нейросети\n",
        "from tensorflow.keras.optimizers import RMSprop, Adadelta   # из кераса загружаем выбранный оптимизатор\n",
        "from tensorflow.keras.preprocessing.sequence import pad_sequences # загружаем метод ограничения последовательности заданной длиной\n",
        "from tensorflow.keras.preprocessing.text import Tokenizer   # загружаем токенизатор кераса для обработки текста\n",
        "from tensorflow.keras import utils                          # загружаем утилиты кераса для one hot кодировки\n",
        "from tensorflow.keras.utils import plot_model               # удобный график для визуализации архитектуры модели\n",
        "from tensorflow.keras.callbacks import ModelCheckpoint\n",
        "from keras import backend as K \n",
        "from numba import cuda\n",
        "\n",
        "import yaml                                                 # импортируем модуль для удобной работы с файлами"
      ],
      "execution_count": null,
      "outputs": []
    },
    {
      "cell_type": "code",
      "metadata": {
        "id": "4xBcdiSDLGHB",
        "colab": {
          "base_uri": "https://localhost:8080/"
        },
        "outputId": "7968881e-dcfc-4e1d-ed99-da06c8f05ebb"
      },
      "source": [
        "from google.colab import drive\n",
        "drive.mount('/content/drive')"
      ],
      "execution_count": null,
      "outputs": [
        {
          "output_type": "stream",
          "name": "stdout",
          "text": [
            "Mounted at /content/drive\n"
          ]
        }
      ]
    },
    {
      "cell_type": "code",
      "metadata": {
        "id": "j0WjekN7LGJg"
      },
      "source": [
        ""
      ],
      "execution_count": null,
      "outputs": []
    },
    {
      "cell_type": "markdown",
      "metadata": {
        "id": "lTPDPtosLng_"
      },
      "source": [
        "# Preprocessing"
      ]
    },
    {
      "cell_type": "code",
      "metadata": {
        "id": "KclgpDRGLGMf",
        "colab": {
          "base_uri": "https://localhost:8080/"
        },
        "outputId": "2c8c8b35-c15c-4c2c-ebed-2d53b9e3a37a"
      },
      "source": [
        "from socket import close\n",
        "corpus = open('/content/drive/MyDrive/Базы/Диалоги(рассказы)_censored.yml','r')\n",
        "document = yaml.safe_load(corpus)\n",
        "conversations = document['разговоры']\n",
        "print('Кол-во пар :',len(conversations))\n",
        "print('Sample :',conversations[10])\n",
        "corpus.close()\n"
      ],
      "execution_count": null,
      "outputs": [
        {
          "output_type": "stream",
          "name": "stdout",
          "text": [
            "Кол-во пар : 11893\n",
            "Sample : ['Как мама?', 'Ничего.']\n"
          ]
        }
      ]
    },
    {
      "cell_type": "code",
      "metadata": {
        "id": "DlSicCKEX_LV",
        "colab": {
          "base_uri": "https://localhost:8080/"
        },
        "outputId": "2c9cccc0-17c7-454c-b7b4-cb0e3b275625"
      },
      "source": [
        "# there is only one sample with 3 elements\n",
        "for i in conversations:\n",
        "  if len(i) > 2:\n",
        "    print(i)"
      ],
      "execution_count": null,
      "outputs": [
        {
          "output_type": "stream",
          "name": "stdout",
          "text": [
            "['Ну?', 'Не будем горячиться. Сядь.', 'Да.']\n"
          ]
        }
      ]
    },
    {
      "cell_type": "code",
      "metadata": {
        "id": "e2-f-qm7LGPK",
        "colab": {
          "base_uri": "https://localhost:8080/"
        },
        "outputId": "ec0f93c9-916c-46fb-da96-792c5d2140ef"
      },
      "source": [
        "######################\n",
        "# Create questions and answers lists with TEGs for answers\n",
        "######################\n",
        "\n",
        "questions = list()                        # create empty list for questions\n",
        "answers = list()                          # create empty list for answers\n",
        "\n",
        "for con in conversations:                                   # for every question/answer element\n",
        "  if len(con) > 2 :                                         # if elements contains more then two Strings\n",
        "    questions.append(con[0])                                # question put in questions list\n",
        "    replies = con[1:]                                       # another Strings put in answers list\n",
        "    ans = ''                                                # create empty String for full answer\n",
        "    for rep in replies:                                     # for each answer Strings\n",
        "      ans += ' ' + rep                                      # separate them by ' '\n",
        "    answers.append(ans)                                     # full answer put in answers list\n",
        "  elif len(con)> 1:                                         # if elements contains two Strings (only one question and answer)\n",
        "    questions.append(con[0])                                # the same operation\n",
        "    answers.append(con[1])                                  # \n",
        "\n",
        "# Очищаем строки с неопределенным типом ответов\n",
        "answersCleaned = list()                                     # create list for cleaned answers\n",
        "for i in range(len(answers)):\n",
        "  if type(answers[i]) == str:                               # if answer string has type string\n",
        "    answersCleaned.append(answers[i])                       # if answer is string then put it in Cl\n",
        "  else:\n",
        "    questions.pop(i)                                        # \n",
        "\n",
        "# create TEGs for answers\n",
        "answers = list()\n",
        "for i in range(len(answersCleaned)):\n",
        "  answers.append( '<START> ' + answersCleaned[i] + ' <END>' )\n",
        "\n",
        "# show new data\n",
        "print('Вопрос : {}'.format(questions[200]))\n",
        "print('Ответ : {}'.format(answers[200]))"
      ],
      "execution_count": null,
      "outputs": [
        {
          "output_type": "stream",
          "name": "stdout",
          "text": [
            "Вопрос : Около сотни...\n",
            "Ответ : <START> Точнее! <END>\n"
          ]
        }
      ]
    },
    {
      "cell_type": "code",
      "metadata": {
        "id": "njuIounrlz30"
      },
      "source": [
        ""
      ],
      "execution_count": null,
      "outputs": []
    },
    {
      "cell_type": "code",
      "metadata": {
        "id": "3vQFeMyTLGR-",
        "colab": {
          "base_uri": "https://localhost:8080/"
        },
        "outputId": "d86df23c-3b96-48a5-f0e4-0e798aecd1c4"
      },
      "source": [
        "######################\n",
        "# Create the index dictionary\n",
        "######################\n",
        "max_count_words = 7000\n",
        "tokenizer = Tokenizer(max_count_words,'!\"#$%&()*+,-–—./…:;<=>?@[\\\\]^_`{|}~«»\\t\\n\\xa0\\ufeff',oov_token= 'unknown', lower=True,)\n",
        "tokenizer.fit_on_texts(questions + answers)                   # train tokenizer\n",
        "vocabularyItems = list(tokenizer.word_index.items())\n",
        "vocabularySize = len(vocabularyItems) + 1\n",
        "\n",
        "print('Sample part of dict :',vocabularyItems[:20])\n",
        "print('Size of Dict :' ,vocabularySize)"
      ],
      "execution_count": null,
      "outputs": [
        {
          "output_type": "stream",
          "name": "stdout",
          "text": [
            "Sample part of dict : [('unknown', 1), ('start', 2), ('end', 3), ('что', 4), ('не', 5), ('я', 6), ('а', 7), ('ты', 8), ('это', 9), ('да', 10), ('в', 11), ('нет', 12), ('как', 13), ('и', 14), ('вы', 15), ('ну', 16), ('с', 17), ('на', 18), ('же', 19), ('так', 20)]\n",
            "Size of Dict : 15093\n"
          ]
        }
      ]
    },
    {
      "cell_type": "code",
      "metadata": {
        "id": "b3laDW7hBdsA"
      },
      "source": [
        ""
      ],
      "execution_count": null,
      "outputs": []
    },
    {
      "cell_type": "code",
      "metadata": {
        "id": "8l4kQyqLLGjH",
        "colab": {
          "base_uri": "https://localhost:8080/"
        },
        "outputId": "1323e3f2-a1dd-48b0-f5b2-313a6b403110"
      },
      "source": [
        "######################\n",
        "# make x_train for encoder\n",
        "######################\n",
        "tokenizedQuestions = tokenizer.texts_to_sequences(questions)                                  # text -> indexes\n",
        "maxLenQuestions = max([len(x) for x in tokenizedQuestions])                                   # find the max len of Question\n",
        "\n",
        "paddedQuestions = pad_sequences(tokenizedQuestions, maxlen=maxLenQuestions, padding='post')   # fill the rest by zeroes\n",
        "\n",
        "encoderForInput = paddedQuestions                                                             # it is our train_x for encoder\n",
        "\n",
        "print('Пример оригинального вопроса на вход : {}'.format(questions[90]))                      # \n",
        "print('Пример кодированного вопроса на вход : {}'.format(encoderForInput[90])) \n",
        "print('Размеры закодированного массива вопросов на вход : {}'.format(encoderForInput.shape)) \n",
        "print('Установленная длина вопросов на вход : {}'.format(maxLenQuestions)) "
      ],
      "execution_count": null,
      "outputs": [
        {
          "output_type": "stream",
          "name": "stdout",
          "text": [
            "Пример оригинального вопроса на вход : Доклад твой, Иван Семенович?\n",
            "Пример кодированного вопроса на вход : [5700  167  343 2143    0    0    0    0    0    0    0]\n",
            "Размеры закодированного массива вопросов на вход : (11888, 11)\n",
            "Установленная длина вопросов на вход : 11\n"
          ]
        }
      ]
    },
    {
      "cell_type": "code",
      "metadata": {
        "id": "9dtfhBPTwmdB",
        "colab": {
          "base_uri": "https://localhost:8080/"
        },
        "outputId": "f0306f50-fee7-47e8-e3b3-2ede1b044519"
      },
      "source": [
        "######################\n",
        "# make x_train for decoder\n",
        "######################\n",
        "tokenizedAnswers = tokenizer.texts_to_sequences(answers) \n",
        "maxLenAnswers = max([len(x) for x in tokenizedAnswers]) \n",
        "\n",
        "paddedAnswers = pad_sequences(tokenizedAnswers, maxlen=maxLenAnswers, padding='post')\n",
        "\n",
        "\n",
        "decoderForInput = paddedAnswers                                                         # it is our train_x for decoder\n",
        "print('Пример оригинального ответа на вход: {}'.format(answers[90])) \n",
        "print('Пример раскодированного ответа на вход : {}'.format(decoderForInput[90])) \n",
        "print('Размеры раскодированного массива ответов на вход : {}'.format(decoderForInput.shape)) \n",
        "print('Установленная длина ответов на вход : {}'.format(maxLenAnswers)) "
      ],
      "execution_count": null,
      "outputs": [
        {
          "output_type": "stream",
          "name": "stdout",
          "text": [
            "Пример оригинального ответа на вход: <START> Мой? Что - некому больше? <END>\n",
            "Пример раскодированного ответа на вход : [   2  105    4 2103  125    3    0    0    0    0    0    0    0]\n",
            "Размеры раскодированного массива ответов на вход : (11888, 13)\n",
            "Установленная длина ответов на вход : 13\n"
          ]
        }
      ]
    },
    {
      "cell_type": "code",
      "metadata": {
        "id": "-nj4StfEwmnI"
      },
      "source": [
        "######################\n",
        "# make y_train for decoder\n",
        "######################\n",
        "tokenizedAnswers = tokenizer.texts_to_sequences(answers)                                      # text -> indexes\n",
        "for i in range(len(tokenizedAnswers)):\n",
        "  tokenizedAnswers[i] = tokenizedAnswers[i][1:]                                               # delete index of <START>\n",
        "\n",
        "paddedAnswers = pad_sequences(tokenizedAnswers,maxlen=maxLenAnswers,padding='post')    # fill the rest by zeroes\n",
        "\n",
        "oneHotAnswers = utils.to_categorical(paddedAnswers,max_count_words)                            # indexes -> OHE with vocabularySize\n",
        "decoderForOutput = np.array(oneHotAnswers)                                                    # save y_train as numpy"
      ],
      "execution_count": null,
      "outputs": []
    },
    {
      "cell_type": "code",
      "metadata": {
        "id": "GT2DjFHpwmpr",
        "colab": {
          "base_uri": "https://localhost:8080/"
        },
        "outputId": "27b844a7-f52e-4cbb-ff96-aab57845e7c4"
      },
      "source": [
        "print('Пример раскодированного ответа на вход : {}'.format(decoderForInput[100][:21]))  \n",
        "print('Пример раскодированного ответа на выход : {}'.format(decoderForOutput[100][4][:21])) \n",
        "print('Размеры раскодированного массива ответов на выход : {}'.format(decoderForOutput.shape))\n",
        "print('Установленная длина вопросов на выход : {}'.format(maxLenAnswers)) "
      ],
      "execution_count": null,
      "outputs": [
        {
          "output_type": "stream",
          "name": "stdout",
          "text": [
            "Пример раскодированного ответа на вход : [  2 673  20  94   1   3   0   0   0   0   0   0   0]\n",
            "Пример раскодированного ответа на выход : [0. 0. 0. 1. 0. 0. 0. 0. 0. 0. 0. 0. 0. 0. 0. 0. 0. 0. 0. 0. 0.]\n",
            "Размеры раскодированного массива ответов на выход : (11888, 13, 7000)\n",
            "Установленная длина вопросов на выход : 13\n"
          ]
        }
      ]
    },
    {
      "cell_type": "code",
      "metadata": {
        "id": "-D6ziVsdwmtC"
      },
      "source": [
        ""
      ],
      "execution_count": null,
      "outputs": []
    },
    {
      "cell_type": "code",
      "metadata": {
        "id": "cFIfNkhjG_Ht"
      },
      "source": [
        "######################\n",
        "# Создаем рабочую модель для вывода ответов на запросы пользователя\n",
        "######################\n",
        "def makeInferenceModels():\n",
        "  # Определим модель кодера, на входе далее будут закодированные вопросы(encoderForInputs), на выходе состояния state_h, state_c\n",
        "  encoderModel = Model(encoderInputs, encoderStates) \n",
        "\n",
        "  decoderStateInput_h = Input(shape=(200 ,)) # обозначим размерность для входного слоя с состоянием state_h\n",
        "  decoderStateInput_c = Input(shape=(200 ,)) # обозначим размерность для входного слоя с состоянием state_c\n",
        "\n",
        "  decoderStatesInputs = [decoderStateInput_h, decoderStateInput_c] # возьмем оба inputs вместе и запишем в decoderStatesInputs\n",
        "\n",
        "  # Берём ответы, прошедшие через эмбединг, вместе с состояниями и подаём LSTM cлою\n",
        "  decoderOutputs, state_h, state_c = decoderLSTM(decoderEmbedding, initial_state=decoderStatesInputs)\n",
        "  decoderStates = [state_h, state_c] # LSTM даст нам новые состояния\n",
        "  decoderOutputs = decoderDense(decoderOutputs) # и ответы, которые мы пропустим через полносвязный слой с софтмаксом\n",
        "\n",
        "  # Определим модель декодера, на входе далее будут раскодированные ответы (decoderForInputs) и состояния\n",
        "  # на выходе предсказываемый ответ и новые состояния\n",
        "  decoderModel = Model([decoderInputs] + decoderStatesInputs, [decoderOutputs] + decoderStates)\n",
        "\n",
        "  return encoderModel , decoderModel\n",
        "\n",
        "######################\n",
        "# Создадим функцию, которая преобразует вопрос пользователя в последовательность индексов \n",
        "######################\n",
        "def strToTokens(sentence: str): # функция принимает строку на вход (предложение с вопросом)\n",
        "  words = sentence.lower().split() # приводит предложение к нижнему регистру и разбирает на слова\n",
        "  tokensList = list() # здесь будет последовательность токенов/индексов\n",
        "  for word in words: # для каждого слова в предложении\n",
        "    tokensList.append(tokenizer.word_index[word]) # определяем токенизатором индекс и добавляем в список\n",
        "\n",
        "    # Функция вернёт вопрос в виде последовательности индексов, ограниченной длиной самого длинного вопроса из нашей базы вопросов\n",
        "  return pad_sequences([tokensList], maxlen=maxLenQuestions , padding='post')"
      ],
      "execution_count": null,
      "outputs": []
    },
    {
      "cell_type": "code",
      "metadata": {
        "id": "dwnilZnxG_Kz"
      },
      "source": [
        ""
      ],
      "execution_count": null,
      "outputs": []
    },
    {
      "cell_type": "markdown",
      "metadata": {
        "id": "mgnx0jsFnblU"
      },
      "source": [
        "# Modelling"
      ]
    },
    {
      "cell_type": "code",
      "metadata": {
        "id": "by7U_urDwmvd"
      },
      "source": [
        "######################\n",
        "# encoderInputs -> encoderStates\n",
        "######################\n",
        "encoderInputs = Input(shape=(None,))\n",
        "\n",
        "encoderEmbedding = Embedding(max_count_words,200,mask_zero=True)(encoderInputs)\n",
        "\n",
        "encoderOutputs, state_h, state_c = LSTM(200,return_state=True)(encoderEmbedding)\n",
        "encoderStates = [state_h, state_c]"
      ],
      "execution_count": null,
      "outputs": []
    },
    {
      "cell_type": "code",
      "metadata": {
        "id": "HCuPKPftwmx5"
      },
      "source": [
        "######################\n",
        "# decoderInputs -> output\n",
        "######################\n",
        "decoderInputs = Input(shape=(None,))\n",
        "\n",
        "decoderEmbedding = Embedding(max_count_words, 200, mask_zero=True)(decoderInputs) \n",
        "\n",
        "decoderLSTM = LSTM(200, return_state=True, return_sequences=True)\n",
        "decoderOutputs,_,_ = decoderLSTM(decoderEmbedding, initial_state = encoderStates)\n",
        "\n",
        "decoderDense = Dense(max_count_words,activation='softmax')\n",
        "output = decoderDense(decoderOutputs)"
      ],
      "execution_count": null,
      "outputs": []
    },
    {
      "cell_type": "code",
      "metadata": {
        "id": "5-VMDQ7CTFKs"
      },
      "source": [
        "######################\n",
        "# create CallBack\n",
        "######################\n",
        "#callbacks = [ModelCheckpoint('/content/drive/MyDrive/Модели/23_Light/gentxt-{epoch:02d}-{val_loss:.4f}.h5')]"
      ],
      "execution_count": null,
      "outputs": []
    },
    {
      "cell_type": "code",
      "metadata": {
        "id": "E8eogZiNrBzh",
        "colab": {
          "base_uri": "https://localhost:8080/",
          "height": 891
        },
        "outputId": "c5196014-8619-49d6-bcbe-eaf766c97e09"
      },
      "source": [
        "######################\n",
        "# make full model\n",
        "######################\n",
        "model = Model([encoderInputs,decoderInputs],output)\n",
        "model.compile(optimizer = RMSprop(), loss = 'categorical_crossentropy')\n",
        "\n",
        "print(model.summary())\n",
        "plot_model(model, to_file='model.png')\n"
      ],
      "execution_count": null,
      "outputs": [
        {
          "output_type": "stream",
          "name": "stdout",
          "text": [
            "Model: \"model\"\n",
            "__________________________________________________________________________________________________\n",
            "Layer (type)                    Output Shape         Param #     Connected to                     \n",
            "==================================================================================================\n",
            "input_1 (InputLayer)            [(None, None)]       0                                            \n",
            "__________________________________________________________________________________________________\n",
            "input_2 (InputLayer)            [(None, None)]       0                                            \n",
            "__________________________________________________________________________________________________\n",
            "embedding (Embedding)           (None, None, 200)    1400000     input_1[0][0]                    \n",
            "__________________________________________________________________________________________________\n",
            "embedding_1 (Embedding)         (None, None, 200)    1400000     input_2[0][0]                    \n",
            "__________________________________________________________________________________________________\n",
            "lstm (LSTM)                     [(None, 200), (None, 320800      embedding[0][0]                  \n",
            "__________________________________________________________________________________________________\n",
            "lstm_1 (LSTM)                   [(None, None, 200),  320800      embedding_1[0][0]                \n",
            "                                                                 lstm[0][1]                       \n",
            "                                                                 lstm[0][2]                       \n",
            "__________________________________________________________________________________________________\n",
            "dense (Dense)                   (None, None, 7000)   1407000     lstm_1[0][0]                     \n",
            "==================================================================================================\n",
            "Total params: 4,848,600\n",
            "Trainable params: 4,848,600\n",
            "Non-trainable params: 0\n",
            "__________________________________________________________________________________________________\n",
            "None\n"
          ]
        },
        {
          "output_type": "execute_result",
          "data": {
            "image/png": "[encoded data removed]",
            "text/plain": [
              "<IPython.core.display.Image object>"
            ]
          },
          "metadata": {},
          "execution_count": 45
        }
      ]
    },
    {
      "cell_type": "code",
      "metadata": {
        "id": "IMIOM-TErB2Y"
      },
      "source": [
        ""
      ],
      "execution_count": null,
      "outputs": []
    },
    {
      "cell_type": "code",
      "metadata": {
        "colab": {
          "base_uri": "https://localhost:8080/"
        },
        "id": "_kEolwg5CqRt",
        "outputId": "9ba9778b-8485-4cab-9b66-5557702c5dc5"
      },
      "source": [
        "######################\n",
        "# create list with our dictionary words \n",
        "######################\n",
        "dict_list = []\n",
        "for j in range(max_count_words):\n",
        "  dict_list.append(vocabularyItems[0:max_count_words][j][0])\n",
        "print(dict_list[-5:], len(dict_list))"
      ],
      "execution_count": null,
      "outputs": [
        {
          "output_type": "stream",
          "name": "stdout",
          "text": [
            "['смеялась', 'другая', 'вытирала', 'канцлер', 'предлагаю'] 7000\n"
          ]
        }
      ]
    },
    {
      "cell_type": "code",
      "metadata": {
        "id": "nceahjnNFD-2"
      },
      "source": [
        "str1 = 'где шашлычек мой дорогой вафел'"
      ],
      "execution_count": null,
      "outputs": []
    },
    {
      "cell_type": "code",
      "metadata": {
        "id": "eADS-YzK6xRn"
      },
      "source": [
        "######################\n",
        "# create func of changing string\n",
        "######################\n",
        "def changeUknown(inputString):\n",
        "  new_str = ''                                          # create new empty string\n",
        "  str_split = inputString.split()                       # list with words of string\n",
        "  for word in str_split:\n",
        "    if word not in dict_list:\n",
        "      new_str += 'unknown '\n",
        "    else:\n",
        "      new_str += (word + ' ')\n",
        "  return new_str"
      ],
      "execution_count": null,
      "outputs": []
    },
    {
      "cell_type": "code",
      "metadata": {
        "colab": {
          "base_uri": "https://localhost:8080/",
          "height": 35
        },
        "id": "LPz6oW9nFGvp",
        "outputId": "5dbe483a-914c-49f0-b6f2-1a43d5e4b9ca"
      },
      "source": [
        "changeUknown(str1)            # testing"
      ],
      "execution_count": null,
      "outputs": [
        {
          "output_type": "execute_result",
          "data": {
            "application/vnd.google.colaboratory.intrinsic+json": {
              "type": "string"
            },
            "text/plain": [
              "'где unknown мой дорогой unknown '"
            ]
          },
          "metadata": {},
          "execution_count": 49
        }
      ]
    },
    {
      "cell_type": "code",
      "metadata": {
        "id": "upMSScf7FaxE"
      },
      "source": [
        ""
      ],
      "execution_count": null,
      "outputs": []
    },
    {
      "cell_type": "code",
      "metadata": {
        "id": "ks2Sl4fEFHAf"
      },
      "source": [
        "######################\n",
        "# load weights in model from drive\n",
        "######################\n",
        "model.load_weights('/content/drive/MyDrive/Модели/23_Light/Gen_text_100.h5')"
      ],
      "execution_count": null,
      "outputs": []
    },
    {
      "cell_type": "code",
      "metadata": {
        "id": "zD-tTL6SXU1h",
        "colab": {
          "base_uri": "https://localhost:8080/"
        },
        "outputId": "83c639a3-ce4e-465c-a70a-f415c7c9d1d0"
      },
      "source": [
        "\n",
        "encModel , decModel = makeInferenceModels() # запускаем функцию для построения модели кодера и декодера\n",
        "\n",
        "for _ in range(7): # задаем количество вопросов, и на каждой итерации в этом диапазоне:\n",
        "  # Получаем значения состояний, которые определит кодер в соответствии с заданным вопросом\n",
        "\n",
        "  inputString = input( 'Задайте вопрос : ' )            # write question\n",
        "\n",
        "  new_str = changeUknown(inputString)                   # change words\n",
        "\n",
        "  statesValues = encModel.predict(strToTokens(new_str)) # continue the algorithm\n",
        "  # Создаём пустой массив размером (1, 1)\n",
        "  emptyTargetSeq = np.zeros((1, 1))    \n",
        "  emptyTargetSeq[0, 0] = tokenizer.word_index['start'] # положим в пустую последовательность начальное слово 'start' в виде индекса\n",
        "\n",
        "  stopCondition = False # зададим условие, при срабатывании которого, прекратится генерация очередного слова\n",
        "  decodedTranslation = '' # здесь будет собираться генерируемый ответ\n",
        "  while not stopCondition : # пока не сработало стоп-условие\n",
        "    # В модель декодера подадим пустую последовательность со словом 'start' и состояния предсказанные кодером по заданному вопросу.\n",
        "    # декодер заменит слово 'start' предсказанным сгенерированным словом и обновит состояния\n",
        "    decOutputs , h , c = decModel.predict([emptyTargetSeq] + statesValues)\n",
        "    \n",
        "    #argmax пробежит по вектору decOutputs'а[0,0,15104], найдет макс.значение, и вернёт нам номер индекса под которым оно лежит в массиве\n",
        "    sampledWordIndex = np.argmax( decOutputs[0, 0, :]) # argmax возьмем от оси, в которой 15104 элементов. Получили индекс предсказанного слова.\n",
        "    sampledWord = None # создаем переменную, в которую положим слово, преобразованное на естественный язык\n",
        "    for word , index in tokenizer.word_index.items():\n",
        "      if sampledWordIndex == index: # если индекс выбранного слова соответствует какому-то индексу из словаря\n",
        "        decodedTranslation += ' {}'.format(word) # слово, идущее под этим индексом в словаре, добавляется в итоговый ответ \n",
        "        sampledWord = word # выбранное слово фиксируем в переменную sampledWord\n",
        "    \n",
        "    # Если выбранным словом оказывается 'end' либо если сгенерированный ответ превышает заданную максимальную длину ответа\n",
        "    if sampledWord == 'end' or len(decodedTranslation.split()) > maxLenAnswers:\n",
        "      stopCondition = True # то срабатывает стоп-условие и прекращаем генерацию\n",
        "\n",
        "\n",
        "    emptyTargetSeq[0, 0] = sampledWordIndex # заносим туда индекс выбранного слова\n",
        "    statesValues = [h, c] # и состояния, обновленные декодером\n",
        "    # и продолжаем цикл с обновленными параметрами\n",
        "  \n",
        "  print(decodedTranslation[:-3]) # выводим ответ сгенерированный декодером"
      ],
      "execution_count": null,
      "outputs": [
        {
          "output_type": "stream",
          "name": "stdout",
          "text": [
            "Задайте вопрос : где шашлычек мой дорогой вафел\n",
            " он только не в unknown \n",
            "Задайте вопрос : стрельну сигаретку?\n",
            " а это \n",
            "Задайте вопрос : четкий пацанчик\n",
            " а это \n",
            "Задайте вопрос : куда пойдем тусить ?\n",
            " unknown то unknown \n",
            "Задайте вопрос : а ты молодец\n",
            " это я его unknown \n",
            "Задайте вопрос : сколько лет отсидел ?\n",
            " четыре unknown unknown \n",
            "Задайте вопрос : как жизнь вообще ?\n",
            " а может и у тебя не unknown \n"
          ]
        }
      ]
    },
    {
      "cell_type": "code",
      "metadata": {
        "id": "0P4m2V_fbLU_"
      },
      "source": [
        ""
      ],
      "execution_count": null,
      "outputs": []
    },
    {
      "cell_type": "code",
      "metadata": {
        "id": "8o3r1KWfbLXq"
      },
      "source": [
        ""
      ],
      "execution_count": null,
      "outputs": []
    },
    {
      "cell_type": "code",
      "metadata": {
        "id": "66ti3iIIbLcf"
      },
      "source": [
        ""
      ],
      "execution_count": null,
      "outputs": []
    },
    {
      "cell_type": "code",
      "metadata": {
        "id": "IUIWD6RWsaNp"
      },
      "source": [
        ""
      ],
      "execution_count": null,
      "outputs": []
    }
  ]
}